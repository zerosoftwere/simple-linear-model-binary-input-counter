{
 "cells": [
  {
   "cell_type": "markdown",
   "metadata": {},
   "source": [
    "# Implementing the Gradient Descent Algorithm\n",
    "\n",
    "In this lab, we'll implement the basic functions of the Gradient Descent algorithm to find the number of ones in the input dataset. First, we'll start by importing the math library to help make computation easier."
   ]
  },
  {
   "cell_type": "code",
   "execution_count": 1,
   "metadata": {
    "collapsed": true
   },
   "outputs": [],
   "source": [
    "import numpy as np\n",
    "import pandas as pd\n",
    "from matplotlib import pyplot as plt"
   ]
  },
  {
   "cell_type": "markdown",
   "metadata": {},
   "source": [
    "## Reading The data"
   ]
  },
  {
   "cell_type": "code",
   "execution_count": 2,
   "metadata": {},
   "outputs": [
    {
     "data": {
      "text/html": [
       "<div>\n",
       "<style>\n",
       "    .dataframe thead tr:only-child th {\n",
       "        text-align: right;\n",
       "    }\n",
       "\n",
       "    .dataframe thead th {\n",
       "        text-align: left;\n",
       "    }\n",
       "\n",
       "    .dataframe tbody tr th {\n",
       "        vertical-align: top;\n",
       "    }\n",
       "</style>\n",
       "<table border=\"1\" class=\"dataframe\">\n",
       "  <thead>\n",
       "    <tr style=\"text-align: right;\">\n",
       "      <th></th>\n",
       "      <th>x1</th>\n",
       "      <th>x2</th>\n",
       "      <th>x3</th>\n",
       "      <th>x4</th>\n",
       "      <th>y</th>\n",
       "    </tr>\n",
       "  </thead>\n",
       "  <tbody>\n",
       "    <tr>\n",
       "      <th>0</th>\n",
       "      <td>0</td>\n",
       "      <td>0</td>\n",
       "      <td>0</td>\n",
       "      <td>0</td>\n",
       "      <td>0</td>\n",
       "    </tr>\n",
       "    <tr>\n",
       "      <th>1</th>\n",
       "      <td>0</td>\n",
       "      <td>0</td>\n",
       "      <td>0</td>\n",
       "      <td>1</td>\n",
       "      <td>1</td>\n",
       "    </tr>\n",
       "    <tr>\n",
       "      <th>2</th>\n",
       "      <td>0</td>\n",
       "      <td>0</td>\n",
       "      <td>1</td>\n",
       "      <td>0</td>\n",
       "      <td>1</td>\n",
       "    </tr>\n",
       "    <tr>\n",
       "      <th>3</th>\n",
       "      <td>0</td>\n",
       "      <td>0</td>\n",
       "      <td>1</td>\n",
       "      <td>1</td>\n",
       "      <td>2</td>\n",
       "    </tr>\n",
       "    <tr>\n",
       "      <th>4</th>\n",
       "      <td>0</td>\n",
       "      <td>1</td>\n",
       "      <td>0</td>\n",
       "      <td>0</td>\n",
       "      <td>1</td>\n",
       "    </tr>\n",
       "    <tr>\n",
       "      <th>5</th>\n",
       "      <td>0</td>\n",
       "      <td>1</td>\n",
       "      <td>0</td>\n",
       "      <td>1</td>\n",
       "      <td>2</td>\n",
       "    </tr>\n",
       "    <tr>\n",
       "      <th>6</th>\n",
       "      <td>0</td>\n",
       "      <td>1</td>\n",
       "      <td>1</td>\n",
       "      <td>0</td>\n",
       "      <td>2</td>\n",
       "    </tr>\n",
       "    <tr>\n",
       "      <th>7</th>\n",
       "      <td>0</td>\n",
       "      <td>1</td>\n",
       "      <td>1</td>\n",
       "      <td>1</td>\n",
       "      <td>3</td>\n",
       "    </tr>\n",
       "    <tr>\n",
       "      <th>8</th>\n",
       "      <td>1</td>\n",
       "      <td>0</td>\n",
       "      <td>0</td>\n",
       "      <td>0</td>\n",
       "      <td>1</td>\n",
       "    </tr>\n",
       "    <tr>\n",
       "      <th>9</th>\n",
       "      <td>1</td>\n",
       "      <td>0</td>\n",
       "      <td>0</td>\n",
       "      <td>1</td>\n",
       "      <td>2</td>\n",
       "    </tr>\n",
       "    <tr>\n",
       "      <th>10</th>\n",
       "      <td>1</td>\n",
       "      <td>0</td>\n",
       "      <td>1</td>\n",
       "      <td>0</td>\n",
       "      <td>2</td>\n",
       "    </tr>\n",
       "    <tr>\n",
       "      <th>11</th>\n",
       "      <td>1</td>\n",
       "      <td>0</td>\n",
       "      <td>1</td>\n",
       "      <td>1</td>\n",
       "      <td>3</td>\n",
       "    </tr>\n",
       "    <tr>\n",
       "      <th>12</th>\n",
       "      <td>1</td>\n",
       "      <td>1</td>\n",
       "      <td>0</td>\n",
       "      <td>0</td>\n",
       "      <td>2</td>\n",
       "    </tr>\n",
       "    <tr>\n",
       "      <th>13</th>\n",
       "      <td>1</td>\n",
       "      <td>1</td>\n",
       "      <td>0</td>\n",
       "      <td>1</td>\n",
       "      <td>3</td>\n",
       "    </tr>\n",
       "    <tr>\n",
       "      <th>14</th>\n",
       "      <td>1</td>\n",
       "      <td>1</td>\n",
       "      <td>1</td>\n",
       "      <td>0</td>\n",
       "      <td>3</td>\n",
       "    </tr>\n",
       "    <tr>\n",
       "      <th>15</th>\n",
       "      <td>1</td>\n",
       "      <td>1</td>\n",
       "      <td>1</td>\n",
       "      <td>1</td>\n",
       "      <td>4</td>\n",
       "    </tr>\n",
       "  </tbody>\n",
       "</table>\n",
       "</div>"
      ],
      "text/plain": [
       "    x1  x2  x3  x4  y\n",
       "0    0   0   0   0  0\n",
       "1    0   0   0   1  1\n",
       "2    0   0   1   0  1\n",
       "3    0   0   1   1  2\n",
       "4    0   1   0   0  1\n",
       "5    0   1   0   1  2\n",
       "6    0   1   1   0  2\n",
       "7    0   1   1   1  3\n",
       "8    1   0   0   0  1\n",
       "9    1   0   0   1  2\n",
       "10   1   0   1   0  2\n",
       "11   1   0   1   1  3\n",
       "12   1   1   0   0  2\n",
       "13   1   1   0   1  3\n",
       "14   1   1   1   0  3\n",
       "15   1   1   1   1  4"
      ]
     },
     "execution_count": 2,
     "metadata": {},
     "output_type": "execute_result"
    }
   ],
   "source": [
    "data = pd.read_csv('data.csv')\n",
    "data"
   ]
  },
  {
   "cell_type": "markdown",
   "metadata": {},
   "source": [
    "## Separate Data Set from Labels\n",
    "\n",
    "This procedure would extract the input data (features) and the labels (targets)"
   ]
  },
  {
   "cell_type": "code",
   "execution_count": 3,
   "metadata": {},
   "outputs": [],
   "source": [
    "xs = np.array(data[['x1', 'x2', 'x3', 'x4']])\n",
    "ys = np.array(data['y'])"
   ]
  },
  {
   "cell_type": "markdown",
   "metadata": {},
   "source": [
    "## Split Data Set in to Training Data and Test Data\n",
    "Here we randomly sample the 70% of the data to be used for the training and the other 30% would be used to verify our training accuracy"
   ]
  },
  {
   "cell_type": "code",
   "execution_count": 4,
   "metadata": {},
   "outputs": [
    {
     "name": "stdout",
     "output_type": "stream",
     "text": [
      "Train data shape: (11, 4)\n",
      "Test data shape:  (5, 4)\n"
     ]
    }
   ],
   "source": [
    "indices = np.arange(xs.shape[0])\n",
    "\n",
    "training_indices = np.random.choice(indices, size=int(np.floor(0.7 * len(indices))), replace=False);\n",
    "test_indices = np.array([x for x in indices if x not in training_indices])\n",
    "\n",
    "training_data = xs[training_indices];\n",
    "training_labels = ys[training_indices];\n",
    "\n",
    "test_data = xs[test_indices];\n",
    "test_labels = ys[test_indices];\n",
    "\n",
    "print('Train data shape:', training_data.shape)\n",
    "print('Test data shape: ', test_data.shape)"
   ]
  },
  {
   "cell_type": "markdown",
   "metadata": {},
   "source": [
    "## Implementing the basic functions\n",
    "Here is your turn to shine. Implement the following formulas, as explained in the text.\n",
    "- Output (prediction) formula\n",
    "\n",
    "$$\\hat{y} = (w_1 x_1 + w_2 x_2 + w_3 x_3 + w_4 x_4)$$\n",
    "\n",
    "- Error function\n",
    "\n",
    "$$E = (\\hat{y} - y)^2$$\n",
    "\n",
    "- Gradient function\n",
    "\n",
    "$$E^\\prime = 2(\\hat{y} - y)$$\n",
    "\n",
    "- Mean squared Error function\n",
    "\n",
    "$$MSE = \\frac{1}{2m}\\sum{(\\hat{y} - y)^2}$$\n",
    "\n",
    "\n",
    "- Deferential of Mean squared Error function\n",
    "\n",
    "$$MSE^\\prime = \\frac{1}{m}\\sum{(\\hat{y} - y)x_i}$$\n",
    "\n",
    "- The function that updates the weights\n",
    "\n",
    "$$ w_i \\longrightarrow w_i - \\frac{\\alpha}{m}\\sum{(\\hat{y} - y)}x_i$$\n"
   ]
  },
  {
   "cell_type": "code",
   "execution_count": 5,
   "metadata": {
    "collapsed": true
   },
   "outputs": [],
   "source": [
    "# Output (prediction) formula\n",
    "def output_formula(features, weights):\n",
    "    return np.dot(features, weights)\n",
    "\n",
    "# Error formula\n",
    "def error_formula(y_hat, y):\n",
    "    return (y_hat - y) ** 2\n",
    "\n",
    "def error_formula_prime(y_hat, y):\n",
    "    return y_hat - y\n",
    "\n",
    "def MSE(y_hats, ys):\n",
    "    return np.mean((y_hats - ys) ** 2)"
   ]
  },
  {
   "cell_type": "markdown",
   "metadata": {},
   "source": [
    "## Training function\n",
    "This function will help us iterate the gradient descent algorithm through all the data, for a number of epochs.\n",
    "\n",
    "- Prediction fuction \n",
    "\n",
    "$$\\hat{y} = w_1 x_1 + w_2 x_2 + w_3 x_3 + w_4 x_4$$\n",
    "\n",
    "- Compute the gradinet \n",
    "\n",
    "$$\\delta = (\\hat{y} - y)$$\n",
    "\n",
    "- Update the weights\n",
    "\n",
    "$$ w_i \\longrightarrow w_i - \\alpha * \\delta * x_i$$"
   ]
  },
  {
   "cell_type": "code",
   "execution_count": 6,
   "metadata": {
    "collapsed": true
   },
   "outputs": [],
   "source": [
    "def train(xs, ys, weights, epochs, learnrate):\n",
    "    \n",
    "    errors = []\n",
    "    n_records, n_features = xs.shape\n",
    "    \n",
    "    for e in range(epochs):\n",
    "        for x, y in zip(xs, ys):\n",
    "            # Feed Forward function\n",
    "            y_hat = output_formula(x, weights)\n",
    "            # Compute gradient\n",
    "            d_error = error_formula_prime(y_hat, y)\n",
    "            # Update weights\n",
    "            weights = weights - learnrate * d_error * x\n",
    "        \n",
    "        \n",
    "        # Printing out the loss error on the training set\n",
    "        y_hats = output_formula(xs, weights)\n",
    "        loss = MSE(y_hats, ys)\n",
    "        errors.append(loss)\n",
    "        \n",
    "        if e % (epochs / 10) == 0:\n",
    "            print(\"\\n========== Epoch\", e,\"==========\")\n",
    "            print(\"Train loss: \", loss)\n",
    "    \n",
    "    # Plotting the error\n",
    "    plt.plot(errors)\n",
    "    plt.show()\n",
    "            \n",
    "    return weights"
   ]
  },
  {
   "cell_type": "markdown",
   "metadata": {},
   "source": [
    "## Initialize Random Weights"
   ]
  },
  {
   "cell_type": "code",
   "execution_count": 7,
   "metadata": {},
   "outputs": [
    {
     "name": "stdout",
     "output_type": "stream",
     "text": [
      "Weights [ 0.81166833  1.42195884 -0.03284291 -0.44724935]\n"
     ]
    }
   ],
   "source": [
    "# Intialize weights\n",
    "weights = np.random.normal(size=4)\n",
    "print('Weights', weights)"
   ]
  },
  {
   "cell_type": "markdown",
   "metadata": {},
   "source": [
    "## Time to train the algorithm!\n",
    "The training algorithim uses a learning rate ($\\alpha$) of 0.4 and a total of 50 iterations (epochs) to train the model over the training data set."
   ]
  },
  {
   "cell_type": "code",
   "execution_count": 8,
   "metadata": {},
   "outputs": [
    {
     "name": "stdout",
     "output_type": "stream",
     "text": [
      "\n",
      "========== Epoch 0 ==========\n",
      "Train loss:  0.0199206598404\n",
      "\n",
      "========== Epoch 5 ==========\n",
      "Train loss:  5.2706978862e-09\n",
      "\n",
      "========== Epoch 10 ==========\n",
      "Train loss:  4.12953396481e-15\n",
      "\n",
      "========== Epoch 15 ==========\n",
      "Train loss:  6.85031606136e-22\n",
      "\n",
      "========== Epoch 20 ==========\n",
      "Train loss:  6.73924767763e-28\n",
      "\n",
      "========== Epoch 25 ==========\n",
      "Train loss:  4.48216423421e-33\n",
      "\n",
      "========== Epoch 30 ==========\n",
      "Train loss:  4.48216423421e-33\n",
      "\n",
      "========== Epoch 35 ==========\n",
      "Train loss:  4.48216423421e-33\n",
      "\n",
      "========== Epoch 40 ==========\n",
      "Train loss:  4.48216423421e-33\n",
      "\n",
      "========== Epoch 45 ==========\n",
      "Train loss:  4.48216423421e-33\n"
     ]
    },
    {
     "data": {
      "image/png": "[encoded data removed]",
      "text/plain": [
       "<Figure size 432x288 with 1 Axes>"
      ]
     },
     "metadata": {},
     "output_type": "display_data"
    }
   ],
   "source": [
    "# Reintialize weights\n",
    "weights = np.random.normal(size=4)\n",
    "# Perform training\n",
    "weights = train(training_data, training_labels, weights, 50, 0.4)"
   ]
  },
  {
   "cell_type": "markdown",
   "metadata": {},
   "source": [
    "## Weights After Training"
   ]
  },
  {
   "cell_type": "code",
   "execution_count": 9,
   "metadata": {},
   "outputs": [
    {
     "name": "stdout",
     "output_type": "stream",
     "text": [
      "Weights: [ 1.  1.  1.  1.]\n"
     ]
    }
   ],
   "source": [
    "print('Weights:', weights)"
   ]
  },
  {
   "cell_type": "markdown",
   "metadata": {},
   "source": [
    "## Training Accuracy"
   ]
  },
  {
   "cell_type": "code",
   "execution_count": 10,
   "metadata": {},
   "outputs": [
    {
     "name": "stdout",
     "output_type": "stream",
     "text": [
      "[0 1 2 3 4] [ 0.  1.  2.  3.  4.]\n"
     ]
    }
   ],
   "source": [
    "pred = output_formula(test_data, weights)\n",
    "print(test_labels, pred)"
   ]
  },
  {
   "cell_type": "code",
   "execution_count": 11,
   "metadata": {},
   "outputs": [
    {
     "name": "stdout",
     "output_type": "stream",
     "text": [
      "Accuray: 100.000000%\n"
     ]
    }
   ],
   "source": [
    "ps = pred.sum()\n",
    "ts = test_labels.sum()\n",
    "\n",
    "accuracy = (ts / ps if ps > ts else ps / ts) * 100.0\n",
    "print('Accuray: %f%%' % accuracy)"
   ]
  }
 ],
 "metadata": {
  "kernelspec": {
   "display_name": "Python 3",
   "language": "python",
   "name": "python3"
  },
  "language_info": {
   "codemirror_mode": {
    "name": "ipython",
    "version": 3
   },
   "file_extension": ".py",
   "mimetype": "text/x-python",
   "name": "python",
   "nbconvert_exporter": "python",
   "pygments_lexer": "ipython3",
   "version": "3.6.7"
  }
 },
 "nbformat": 4,
 "nbformat_minor": 2
}
